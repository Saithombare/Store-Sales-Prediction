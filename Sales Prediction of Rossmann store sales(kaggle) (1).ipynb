{
 "cells": [
  {
   "cell_type": "code",
   "execution_count": 459,
   "id": "7046b4b9",
   "metadata": {},
   "outputs": [],
   "source": [
    "# Predicting the sales with different conditions"
   ]
  },
  {
   "cell_type": "code",
   "execution_count": 4,
   "id": "cdbcc153",
   "metadata": {},
   "outputs": [],
   "source": [
    "import pandas as pd\n",
    "import matplotlib.pyplot as plt\n",
    "import seaborn as sns\n",
    "import numpy as np"
   ]
  },
  {
   "cell_type": "code",
   "execution_count": null,
   "id": "4bce926f",
   "metadata": {},
   "outputs": [],
   "source": [
    "df = pd.read_csv(\"store.csv\")"
   ]
  },
  {
   "cell_type": "code",
   "execution_count": 6,
   "id": "03eff760",
   "metadata": {},
   "outputs": [
    {
     "data": {
      "text/html": [
       "<div>\n",
       "<style scoped>\n",
       "    .dataframe tbody tr th:only-of-type {\n",
       "        vertical-align: middle;\n",
       "    }\n",
       "\n",
       "    .dataframe tbody tr th {\n",
       "        vertical-align: top;\n",
       "    }\n",
       "\n",
       "    .dataframe thead th {\n",
       "        text-align: right;\n",
       "    }\n",
       "</style>\n",
       "<table border=\"1\" class=\"dataframe\">\n",
       "  <thead>\n",
       "    <tr style=\"text-align: right;\">\n",
       "      <th></th>\n",
       "      <th>Store</th>\n",
       "      <th>DayOfWeek</th>\n",
       "      <th>Date</th>\n",
       "      <th>Sales</th>\n",
       "      <th>Customers</th>\n",
       "      <th>Open</th>\n",
       "      <th>Promo</th>\n",
       "      <th>StateHoliday</th>\n",
       "      <th>SchoolHoliday</th>\n",
       "    </tr>\n",
       "  </thead>\n",
       "  <tbody>\n",
       "    <tr>\n",
       "      <th>0</th>\n",
       "      <td>1</td>\n",
       "      <td>5</td>\n",
       "      <td>2015-07-31</td>\n",
       "      <td>5263</td>\n",
       "      <td>555</td>\n",
       "      <td>1</td>\n",
       "      <td>1</td>\n",
       "      <td>0</td>\n",
       "      <td>1</td>\n",
       "    </tr>\n",
       "    <tr>\n",
       "      <th>1</th>\n",
       "      <td>2</td>\n",
       "      <td>5</td>\n",
       "      <td>2015-07-31</td>\n",
       "      <td>6064</td>\n",
       "      <td>625</td>\n",
       "      <td>1</td>\n",
       "      <td>1</td>\n",
       "      <td>0</td>\n",
       "      <td>1</td>\n",
       "    </tr>\n",
       "  </tbody>\n",
       "</table>\n",
       "</div>"
      ],
      "text/plain": [
       "   Store  DayOfWeek        Date  Sales  Customers  Open  Promo StateHoliday  \\\n",
       "0      1          5  2015-07-31   5263        555     1      1            0   \n",
       "1      2          5  2015-07-31   6064        625     1      1            0   \n",
       "\n",
       "   SchoolHoliday  \n",
       "0              1  \n",
       "1              1  "
      ]
     },
     "execution_count": 6,
     "metadata": {},
     "output_type": "execute_result"
    }
   ],
   "source": [
    "df.head(2)"
   ]
  },
  {
   "cell_type": "raw",
   "id": "17c1d625",
   "metadata": {},
   "source": [
    "Column Description\n",
    "1.Store:- No. Of Stores\n",
    "2.DayOfWeek:- no. of days ex. 1.= Monday,5 = Friday\n",
    "3.date:- Date of the day\n",
    "4.Customers:- No. of Customers visited in one day\n",
    "5.Open:- Shop open or not\n",
    "6.State Holiday:- Yes/No\n",
    "7.SchoolHoliday:- Yes/No    "
   ]
  },
  {
   "cell_type": "code",
   "execution_count": 7,
   "id": "92a0b4d8",
   "metadata": {},
   "outputs": [
    {
     "data": {
      "text/plain": [
       "(1017209, 9)"
      ]
     },
     "execution_count": 7,
     "metadata": {},
     "output_type": "execute_result"
    }
   ],
   "source": [
    "df.shape"
   ]
  },
  {
   "cell_type": "code",
   "execution_count": 8,
   "id": "1b53b2a4",
   "metadata": {},
   "outputs": [
    {
     "name": "stdout",
     "output_type": "stream",
     "text": [
      "<class 'pandas.core.frame.DataFrame'>\n",
      "RangeIndex: 1017209 entries, 0 to 1017208\n",
      "Data columns (total 9 columns):\n",
      " #   Column         Non-Null Count    Dtype \n",
      "---  ------         --------------    ----- \n",
      " 0   Store          1017209 non-null  int64 \n",
      " 1   DayOfWeek      1017209 non-null  int64 \n",
      " 2   Date           1017209 non-null  object\n",
      " 3   Sales          1017209 non-null  int64 \n",
      " 4   Customers      1017209 non-null  int64 \n",
      " 5   Open           1017209 non-null  int64 \n",
      " 6   Promo          1017209 non-null  int64 \n",
      " 7   StateHoliday   1017209 non-null  object\n",
      " 8   SchoolHoliday  1017209 non-null  int64 \n",
      "dtypes: int64(7), object(2)\n",
      "memory usage: 69.8+ MB\n"
     ]
    }
   ],
   "source": [
    "df.info()"
   ]
  },
  {
   "cell_type": "code",
   "execution_count": 9,
   "id": "95dbf6e2",
   "metadata": {},
   "outputs": [],
   "source": [
    "#Converting the dtypes"
   ]
  },
  {
   "cell_type": "code",
   "execution_count": 10,
   "id": "f334dcd1",
   "metadata": {},
   "outputs": [],
   "source": [
    "df[\"Date\"]=pd.to_datetime(df[\"Date\"])"
   ]
  },
  {
   "cell_type": "code",
   "execution_count": 11,
   "id": "edee8659",
   "metadata": {},
   "outputs": [],
   "source": [
    "# Removing State Holiday and Open column Because as if store is close then sales become zero"
   ]
  },
  {
   "cell_type": "code",
   "execution_count": 12,
   "id": "723e481f",
   "metadata": {},
   "outputs": [],
   "source": [
    "df = df.drop([\"Open\",\"StateHoliday\"],axis = 1)"
   ]
  },
  {
   "cell_type": "code",
   "execution_count": 13,
   "id": "bfffdade",
   "metadata": {},
   "outputs": [
    {
     "name": "stdout",
     "output_type": "stream",
     "text": [
      "<class 'pandas.core.frame.DataFrame'>\n",
      "RangeIndex: 1017209 entries, 0 to 1017208\n",
      "Data columns (total 7 columns):\n",
      " #   Column         Non-Null Count    Dtype         \n",
      "---  ------         --------------    -----         \n",
      " 0   Store          1017209 non-null  int64         \n",
      " 1   DayOfWeek      1017209 non-null  int64         \n",
      " 2   Date           1017209 non-null  datetime64[ns]\n",
      " 3   Sales          1017209 non-null  int64         \n",
      " 4   Customers      1017209 non-null  int64         \n",
      " 5   Promo          1017209 non-null  int64         \n",
      " 6   SchoolHoliday  1017209 non-null  int64         \n",
      "dtypes: datetime64[ns](1), int64(6)\n",
      "memory usage: 54.3 MB\n"
     ]
    }
   ],
   "source": [
    "df.info()"
   ]
  },
  {
   "cell_type": "code",
   "execution_count": 14,
   "id": "b10fac2a",
   "metadata": {},
   "outputs": [],
   "source": [
    "# Checking Null or Duplicated Values"
   ]
  },
  {
   "cell_type": "code",
   "execution_count": 15,
   "id": "ed2610d8",
   "metadata": {},
   "outputs": [
    {
     "data": {
      "text/html": [
       "<style type=\"text/css\">\n",
       "#T_6f261_row0_col0, #T_6f261_row1_col0, #T_6f261_row2_col0, #T_6f261_row3_col0, #T_6f261_row4_col0, #T_6f261_row5_col0, #T_6f261_row6_col0 {\n",
       "  background-color: #30123b;\n",
       "  color: #f1f1f1;\n",
       "}\n",
       "</style>\n",
       "<table id=\"T_6f261\">\n",
       "  <thead>\n",
       "    <tr>\n",
       "      <th class=\"blank level0\" >&nbsp;</th>\n",
       "      <th id=\"T_6f261_level0_col0\" class=\"col_heading level0 col0\" >0</th>\n",
       "    </tr>\n",
       "  </thead>\n",
       "  <tbody>\n",
       "    <tr>\n",
       "      <th id=\"T_6f261_level0_row0\" class=\"row_heading level0 row0\" >Store</th>\n",
       "      <td id=\"T_6f261_row0_col0\" class=\"data row0 col0\" >0</td>\n",
       "    </tr>\n",
       "    <tr>\n",
       "      <th id=\"T_6f261_level0_row1\" class=\"row_heading level0 row1\" >DayOfWeek</th>\n",
       "      <td id=\"T_6f261_row1_col0\" class=\"data row1 col0\" >0</td>\n",
       "    </tr>\n",
       "    <tr>\n",
       "      <th id=\"T_6f261_level0_row2\" class=\"row_heading level0 row2\" >Date</th>\n",
       "      <td id=\"T_6f261_row2_col0\" class=\"data row2 col0\" >0</td>\n",
       "    </tr>\n",
       "    <tr>\n",
       "      <th id=\"T_6f261_level0_row3\" class=\"row_heading level0 row3\" >Sales</th>\n",
       "      <td id=\"T_6f261_row3_col0\" class=\"data row3 col0\" >0</td>\n",
       "    </tr>\n",
       "    <tr>\n",
       "      <th id=\"T_6f261_level0_row4\" class=\"row_heading level0 row4\" >Customers</th>\n",
       "      <td id=\"T_6f261_row4_col0\" class=\"data row4 col0\" >0</td>\n",
       "    </tr>\n",
       "    <tr>\n",
       "      <th id=\"T_6f261_level0_row5\" class=\"row_heading level0 row5\" >Promo</th>\n",
       "      <td id=\"T_6f261_row5_col0\" class=\"data row5 col0\" >0</td>\n",
       "    </tr>\n",
       "    <tr>\n",
       "      <th id=\"T_6f261_level0_row6\" class=\"row_heading level0 row6\" >SchoolHoliday</th>\n",
       "      <td id=\"T_6f261_row6_col0\" class=\"data row6 col0\" >0</td>\n",
       "    </tr>\n",
       "  </tbody>\n",
       "</table>\n"
      ],
      "text/plain": [
       "<pandas.io.formats.style.Styler at 0x1ce8225cfa0>"
      ]
     },
     "execution_count": 15,
     "metadata": {},
     "output_type": "execute_result"
    }
   ],
   "source": [
    "Null = pd.DataFrame(df.isnull().sum())\n",
    "Null.style.background_gradient(cmap = \"turbo\")"
   ]
  },
  {
   "cell_type": "code",
   "execution_count": 16,
   "id": "da4c141a",
   "metadata": {},
   "outputs": [
    {
     "data": {
      "text/plain": [
       "0"
      ]
     },
     "execution_count": 16,
     "metadata": {},
     "output_type": "execute_result"
    }
   ],
   "source": [
    "df.duplicated().sum()"
   ]
  },
  {
   "cell_type": "code",
   "execution_count": 17,
   "id": "1c9f0d09",
   "metadata": {},
   "outputs": [],
   "source": [
    "# No Null and Duplicated values are present in Data"
   ]
  },
  {
   "cell_type": "code",
   "execution_count": 18,
   "id": "9811d6ac",
   "metadata": {},
   "outputs": [
    {
     "data": {
      "text/plain": [
       "Timestamp('2013-01-01 00:00:00')"
      ]
     },
     "execution_count": 18,
     "metadata": {},
     "output_type": "execute_result"
    }
   ],
   "source": [
    "df[\"Date\"].min()"
   ]
  },
  {
   "cell_type": "code",
   "execution_count": 19,
   "id": "49bc0172",
   "metadata": {},
   "outputs": [
    {
     "data": {
      "text/plain": [
       "Timestamp('2015-07-31 00:00:00')"
      ]
     },
     "execution_count": 19,
     "metadata": {},
     "output_type": "execute_result"
    }
   ],
   "source": [
    "df[\"Date\"].max()"
   ]
  },
  {
   "cell_type": "code",
   "execution_count": 20,
   "id": "dcf8e566",
   "metadata": {},
   "outputs": [],
   "source": [
    "# converting Date into bins to check sales in each year"
   ]
  },
  {
   "cell_type": "code",
   "execution_count": 21,
   "id": "51598fc1",
   "metadata": {},
   "outputs": [],
   "source": [
    "df[\"Group\"] = df['Date'].dt.year"
   ]
  },
  {
   "cell_type": "code",
   "execution_count": 22,
   "id": "c893d328",
   "metadata": {},
   "outputs": [
    {
     "data": {
      "text/plain": [
       "<AxesSubplot:xlabel='Group'>"
      ]
     },
     "execution_count": 22,
     "metadata": {},
     "output_type": "execute_result"
    },
    {
     "data": {
      "image/png": "[encoded data removed]",
      "text/plain": [
       "<Figure size 432x288 with 1 Axes>"
      ]
     },
     "metadata": {
      "needs_background": "light"
     },
     "output_type": "display_data"
    }
   ],
   "source": [
    "df.groupby(\"Group\")[\"Sales\"].sum().plot.bar()"
   ]
  },
  {
   "cell_type": "code",
   "execution_count": 23,
   "id": "8ae30557",
   "metadata": {},
   "outputs": [
    {
     "data": {
      "text/plain": [
       "Index(['Store', 'DayOfWeek', 'Date', 'Sales', 'Customers', 'Promo',\n",
       "       'SchoolHoliday', 'Group'],\n",
       "      dtype='object')"
      ]
     },
     "execution_count": 23,
     "metadata": {},
     "output_type": "execute_result"
    }
   ],
   "source": [
    "df.columns"
   ]
  },
  {
   "cell_type": "code",
   "execution_count": 24,
   "id": "d7a8e155",
   "metadata": {},
   "outputs": [],
   "source": [
    "# Removing date,Store & Group column"
   ]
  },
  {
   "cell_type": "code",
   "execution_count": 25,
   "id": "8548c9d8",
   "metadata": {},
   "outputs": [],
   "source": [
    "df = df.drop([\"Date\",\"Group\",\"Store\"],axis = 1)"
   ]
  },
  {
   "cell_type": "code",
   "execution_count": 26,
   "id": "2d29585a",
   "metadata": {},
   "outputs": [],
   "source": [
    "# Checking Unique Values"
   ]
  },
  {
   "cell_type": "code",
   "execution_count": 27,
   "id": "34fcc17c",
   "metadata": {},
   "outputs": [
    {
     "data": {
      "text/html": [
       "<style type=\"text/css\">\n",
       "#T_46968_row0_col0, #T_46968_row3_col0, #T_46968_row4_col0 {\n",
       "  background-color: #30123b;\n",
       "  color: #f1f1f1;\n",
       "}\n",
       "#T_46968_row1_col0 {\n",
       "  background-color: #7a0403;\n",
       "  color: #f1f1f1;\n",
       "}\n",
       "#T_46968_row2_col0 {\n",
       "  background-color: #4294ff;\n",
       "  color: #f1f1f1;\n",
       "}\n",
       "</style>\n",
       "<table id=\"T_46968\">\n",
       "  <thead>\n",
       "    <tr>\n",
       "      <th class=\"blank level0\" >&nbsp;</th>\n",
       "      <th id=\"T_46968_level0_col0\" class=\"col_heading level0 col0\" >0</th>\n",
       "    </tr>\n",
       "  </thead>\n",
       "  <tbody>\n",
       "    <tr>\n",
       "      <th id=\"T_46968_level0_row0\" class=\"row_heading level0 row0\" >DayOfWeek</th>\n",
       "      <td id=\"T_46968_row0_col0\" class=\"data row0 col0\" >7</td>\n",
       "    </tr>\n",
       "    <tr>\n",
       "      <th id=\"T_46968_level0_row1\" class=\"row_heading level0 row1\" >Sales</th>\n",
       "      <td id=\"T_46968_row1_col0\" class=\"data row1 col0\" >21734</td>\n",
       "    </tr>\n",
       "    <tr>\n",
       "      <th id=\"T_46968_level0_row2\" class=\"row_heading level0 row2\" >Customers</th>\n",
       "      <td id=\"T_46968_row2_col0\" class=\"data row2 col0\" >4086</td>\n",
       "    </tr>\n",
       "    <tr>\n",
       "      <th id=\"T_46968_level0_row3\" class=\"row_heading level0 row3\" >Promo</th>\n",
       "      <td id=\"T_46968_row3_col0\" class=\"data row3 col0\" >2</td>\n",
       "    </tr>\n",
       "    <tr>\n",
       "      <th id=\"T_46968_level0_row4\" class=\"row_heading level0 row4\" >SchoolHoliday</th>\n",
       "      <td id=\"T_46968_row4_col0\" class=\"data row4 col0\" >2</td>\n",
       "    </tr>\n",
       "  </tbody>\n",
       "</table>\n"
      ],
      "text/plain": [
       "<pandas.io.formats.style.Styler at 0x1ce84dfa9d0>"
      ]
     },
     "execution_count": 27,
     "metadata": {},
     "output_type": "execute_result"
    }
   ],
   "source": [
    "Nunique = pd.DataFrame(df.nunique())\n",
    "Nunique.style.background_gradient(cmap = \"turbo\")"
   ]
  },
  {
   "cell_type": "code",
   "execution_count": 28,
   "id": "df0aedb0",
   "metadata": {},
   "outputs": [],
   "source": [
    "# Checking correlation "
   ]
  },
  {
   "cell_type": "code",
   "execution_count": 29,
   "id": "dbb52db0",
   "metadata": {},
   "outputs": [
    {
     "data": {
      "text/plain": [
       "<AxesSubplot:>"
      ]
     },
     "execution_count": 29,
     "metadata": {},
     "output_type": "execute_result"
    },
    {
     "data": {
      "image/png": "[encoded data removed]",
      "text/plain": [
       "<Figure size 432x288 with 1 Axes>"
      ]
     },
     "metadata": {
      "needs_background": "light"
     },
     "output_type": "display_data"
    }
   ],
   "source": [
    "df.corr()[\"Sales\"].sort_values(ascending = False).plot(kind = \"bar\")"
   ]
  },
  {
   "cell_type": "code",
   "execution_count": 30,
   "id": "981d6750",
   "metadata": {},
   "outputs": [],
   "source": [
    "# plotting dayofweek because it has -ve correlation with sales"
   ]
  },
  {
   "cell_type": "code",
   "execution_count": 31,
   "id": "047bf1de",
   "metadata": {},
   "outputs": [
    {
     "data": {
      "text/plain": [
       "<AxesSubplot:xlabel='DayOfWeek'>"
      ]
     },
     "execution_count": 31,
     "metadata": {},
     "output_type": "execute_result"
    },
    {
     "data": {
      "image/png": "[encoded data removed]",
      "text/plain": [
       "<Figure size 432x288 with 1 Axes>"
      ]
     },
     "metadata": {
      "needs_background": "light"
     },
     "output_type": "display_data"
    }
   ],
   "source": [
    "df.groupby(\"DayOfWeek\")[\"Sales\"].sum().plot.bar()"
   ]
  },
  {
   "cell_type": "code",
   "execution_count": 32,
   "id": "272d382e",
   "metadata": {},
   "outputs": [],
   "source": [
    "# Monday have more sales and Sunday have less sale, replacing sunday with space"
   ]
  },
  {
   "cell_type": "code",
   "execution_count": 33,
   "id": "f6e038f0",
   "metadata": {},
   "outputs": [],
   "source": [
    "df[\"Sunday_Cancel\"] = np.where(df[\"DayOfWeek\"]==7,0,df[\"DayOfWeek\"])"
   ]
  },
  {
   "cell_type": "code",
   "execution_count": 34,
   "id": "56ab1b72",
   "metadata": {},
   "outputs": [
    {
     "data": {
      "text/html": [
       "<div>\n",
       "<style scoped>\n",
       "    .dataframe tbody tr th:only-of-type {\n",
       "        vertical-align: middle;\n",
       "    }\n",
       "\n",
       "    .dataframe tbody tr th {\n",
       "        vertical-align: top;\n",
       "    }\n",
       "\n",
       "    .dataframe thead th {\n",
       "        text-align: right;\n",
       "    }\n",
       "</style>\n",
       "<table border=\"1\" class=\"dataframe\">\n",
       "  <thead>\n",
       "    <tr style=\"text-align: right;\">\n",
       "      <th></th>\n",
       "      <th>DayOfWeek</th>\n",
       "      <th>Sales</th>\n",
       "      <th>Customers</th>\n",
       "      <th>Promo</th>\n",
       "      <th>SchoolHoliday</th>\n",
       "      <th>Sunday_Cancel</th>\n",
       "    </tr>\n",
       "  </thead>\n",
       "  <tbody>\n",
       "    <tr>\n",
       "      <th>0</th>\n",
       "      <td>5</td>\n",
       "      <td>5263</td>\n",
       "      <td>555</td>\n",
       "      <td>1</td>\n",
       "      <td>1</td>\n",
       "      <td>5</td>\n",
       "    </tr>\n",
       "  </tbody>\n",
       "</table>\n",
       "</div>"
      ],
      "text/plain": [
       "   DayOfWeek  Sales  Customers  Promo  SchoolHoliday  Sunday_Cancel\n",
       "0          5   5263        555      1              1              5"
      ]
     },
     "execution_count": 34,
     "metadata": {},
     "output_type": "execute_result"
    }
   ],
   "source": [
    "df.head(1)"
   ]
  },
  {
   "cell_type": "code",
   "execution_count": 35,
   "id": "096e477f",
   "metadata": {},
   "outputs": [],
   "source": [
    "# Removing \"DayofWeek\""
   ]
  },
  {
   "cell_type": "code",
   "execution_count": 36,
   "id": "d0081c83",
   "metadata": {},
   "outputs": [],
   "source": [
    "df = df.drop([\"DayOfWeek\"],axis = 1)"
   ]
  },
  {
   "cell_type": "code",
   "execution_count": 37,
   "id": "aecb2b1c",
   "metadata": {},
   "outputs": [],
   "source": [
    "# Checking the correlation"
   ]
  },
  {
   "cell_type": "code",
   "execution_count": 38,
   "id": "2f65351e",
   "metadata": {},
   "outputs": [
    {
     "data": {
      "text/plain": [
       "<AxesSubplot:>"
      ]
     },
     "execution_count": 38,
     "metadata": {},
     "output_type": "execute_result"
    },
    {
     "data": {
      "image/png": "[encoded data removed]",
      "text/plain": [
       "<Figure size 432x288 with 1 Axes>"
      ]
     },
     "metadata": {
      "needs_background": "light"
     },
     "output_type": "display_data"
    }
   ],
   "source": [
    "df.corr()[\"Sales\"].sort_values(ascending = False).plot(kind = \"bar\")"
   ]
  },
  {
   "cell_type": "code",
   "execution_count": 39,
   "id": "2dba557f",
   "metadata": {},
   "outputs": [
    {
     "data": {
      "image/png": "[encoded data removed]",
      "text/plain": [
       "<Figure size 432x288 with 1 Axes>"
      ]
     },
     "metadata": {
      "needs_background": "light"
     },
     "output_type": "display_data"
    },
    {
     "data": {
      "image/png": "[encoded data removed]",
      "text/plain": [
       "<Figure size 432x288 with 1 Axes>"
      ]
     },
     "metadata": {
      "needs_background": "light"
     },
     "output_type": "display_data"
    }
   ],
   "source": [
    "Columns = [\"Promo\",\"SchoolHoliday\"]\n",
    "for i in Columns:\n",
    "    plt.figure(i)\n",
    "    df.groupby(i)[\"Sales\"].sum().plot.bar()"
   ]
  },
  {
   "cell_type": "code",
   "execution_count": 40,
   "id": "dcddbb8e",
   "metadata": {},
   "outputs": [
    {
     "name": "stdout",
     "output_type": "stream",
     "text": [
      "   Sales  Customers  Promo  SchoolHoliday  Sunday_Cancel\n",
      "0   5263        555      1              1              5\n",
      "1   6064        625      1              1              5\n",
      "2   8314        821      1              1              5\n",
      "3  13995       1498      1              1              5\n",
      "4   4822        559      1              1              5\n",
      "(1017209, 5)\n"
     ]
    }
   ],
   "source": [
    "print(df.head(5))\n",
    "print(df.shape)"
   ]
  },
  {
   "cell_type": "code",
   "execution_count": 41,
   "id": "79893405",
   "metadata": {},
   "outputs": [],
   "source": [
    "# data is large so creating subset of the data using 1000"
   ]
  },
  {
   "cell_type": "code",
   "execution_count": 42,
   "id": "11c9fa30",
   "metadata": {},
   "outputs": [
    {
     "name": "stdout",
     "output_type": "stream",
     "text": [
      "(1000, 5)\n"
     ]
    }
   ],
   "source": [
    "df1 = df.sample(n = 1000)\n",
    "print(df1.shape)"
   ]
  },
  {
   "cell_type": "code",
   "execution_count": 43,
   "id": "7cf4ca4d",
   "metadata": {},
   "outputs": [],
   "source": [
    "# Creating X & Y Labels"
   ]
  },
  {
   "cell_type": "code",
   "execution_count": 44,
   "id": "1d3ac9db",
   "metadata": {},
   "outputs": [],
   "source": [
    "y = df1[\"Sales\"]"
   ]
  },
  {
   "cell_type": "code",
   "execution_count": 45,
   "id": "7efaf622",
   "metadata": {},
   "outputs": [],
   "source": [
    "x =df1.drop(\"Sales\",axis = 1)"
   ]
  },
  {
   "cell_type": "code",
   "execution_count": 46,
   "id": "fcf802d3",
   "metadata": {},
   "outputs": [],
   "source": [
    "#train-test-split"
   ]
  },
  {
   "cell_type": "code",
   "execution_count": 47,
   "id": "b5dad0ef",
   "metadata": {},
   "outputs": [],
   "source": [
    "from sklearn.model_selection import train_test_split\n",
    "x_train,x_test,y_train,y_test=train_test_split(x,y,test_size=0.2)"
   ]
  },
  {
   "cell_type": "code",
   "execution_count": 48,
   "id": "6765d180",
   "metadata": {},
   "outputs": [],
   "source": [
    "# using knn regressor"
   ]
  },
  {
   "cell_type": "code",
   "execution_count": 49,
   "id": "521c29c3",
   "metadata": {},
   "outputs": [],
   "source": [
    "from sklearn.neighbors import KNeighborsRegressor\n",
    "model =KNeighborsRegressor(n_neighbors=5)\n",
    "model.fit(x_train,y_train)\n",
    "Subsety_pred=model.predict(x_test)"
   ]
  },
  {
   "cell_type": "code",
   "execution_count": 50,
   "id": "59ed80b3",
   "metadata": {},
   "outputs": [
    {
     "data": {
      "text/plain": [
       "0.8359014456180928"
      ]
     },
     "execution_count": 50,
     "metadata": {},
     "output_type": "execute_result"
    }
   ],
   "source": [
    "from sklearn.metrics import r2_score\n",
    "r2_score(y_test, Subsety_pred)"
   ]
  },
  {
   "cell_type": "code",
   "execution_count": 51,
   "id": "22ec521c",
   "metadata": {},
   "outputs": [],
   "source": [
    "Range = [1,2,3,4,5,6,7,8,9,10]\n",
    "K_value = []\n",
    "for i in Range:\n",
    "    model =KNeighborsRegressor(n_neighbors=i)\n",
    "    model.fit(x_train,y_train)\n",
    "    y_pred=model.predict(x_test)\n",
    "    s = r2_score(y_test, y_pred)\n",
    "    K_value.append(s)\n",
    "    "
   ]
  },
  {
   "cell_type": "code",
   "execution_count": 52,
   "id": "b7d881b7",
   "metadata": {},
   "outputs": [
    {
     "data": {
      "text/plain": [
       "[<matplotlib.lines.Line2D at 0x1ce8571c430>]"
      ]
     },
     "execution_count": 52,
     "metadata": {},
     "output_type": "execute_result"
    },
    {
     "data": {
      "image/png": "[encoded data removed]",
      "text/plain": [
       "<Figure size 432x288 with 1 Axes>"
      ]
     },
     "metadata": {
      "needs_background": "light"
     },
     "output_type": "display_data"
    }
   ],
   "source": [
    "plt.plot(K_value)"
   ]
  },
  {
   "cell_type": "code",
   "execution_count": 53,
   "id": "f8013c6e",
   "metadata": {},
   "outputs": [],
   "source": [
    "# 3 is the best value for k"
   ]
  },
  {
   "cell_type": "code",
   "execution_count": 54,
   "id": "c3098065",
   "metadata": {},
   "outputs": [],
   "source": [
    "model =KNeighborsRegressor(n_neighbors=3)\n",
    "model.fit(x_train,y_train)\n",
    "Subsety_pred=model.predict(x_test)"
   ]
  },
  {
   "cell_type": "code",
   "execution_count": 55,
   "id": "6e965fdc",
   "metadata": {},
   "outputs": [
    {
     "name": "stdout",
     "output_type": "stream",
     "text": [
      "0.8496593096159284\n"
     ]
    }
   ],
   "source": [
    "SubsetScore = r2_score(y_test, y_pred)\n",
    "print(SubsetScore)"
   ]
  },
  {
   "cell_type": "code",
   "execution_count": 56,
   "id": "bbe7aef1",
   "metadata": {},
   "outputs": [],
   "source": [
    "# using knnRegg with k value 3 with all data"
   ]
  },
  {
   "cell_type": "code",
   "execution_count": 57,
   "id": "dd3c0dab",
   "metadata": {},
   "outputs": [],
   "source": [
    "Y = df[\"Sales\"]"
   ]
  },
  {
   "cell_type": "code",
   "execution_count": 58,
   "id": "f44aae25",
   "metadata": {},
   "outputs": [],
   "source": [
    "X =df.drop(\"Sales\",axis = 1)"
   ]
  },
  {
   "cell_type": "code",
   "execution_count": 59,
   "id": "187f8601",
   "metadata": {},
   "outputs": [
    {
     "name": "stdout",
     "output_type": "stream",
     "text": [
      "(1017209, 4)\n",
      "(1017209,)\n"
     ]
    }
   ],
   "source": [
    "print(X.shape)\n",
    "print(Y.shape)"
   ]
  },
  {
   "cell_type": "code",
   "execution_count": 60,
   "id": "cba72a74",
   "metadata": {},
   "outputs": [],
   "source": [
    "from sklearn.model_selection import train_test_split\n",
    "Mx_train,Mx_test,My_train,My_test=train_test_split(X,Y,test_size=0.2)"
   ]
  },
  {
   "cell_type": "code",
   "execution_count": 61,
   "id": "04886cf5",
   "metadata": {},
   "outputs": [],
   "source": [
    "from sklearn.neighbors import KNeighborsRegressor\n",
    "model =KNeighborsRegressor(n_neighbors=3)\n",
    "model.fit(Mx_train,My_train)\n",
    "My_pred=model.predict(Mx_test)"
   ]
  },
  {
   "cell_type": "code",
   "execution_count": 62,
   "id": "9488cedf",
   "metadata": {},
   "outputs": [
    {
     "name": "stdout",
     "output_type": "stream",
     "text": [
      "0.8496593096159284\n"
     ]
    }
   ],
   "source": [
    "MainScore = r2_score(y_test, y_pred)\n",
    "print(MainScore)"
   ]
  },
  {
   "cell_type": "code",
   "execution_count": 63,
   "id": "5121f06c",
   "metadata": {},
   "outputs": [],
   "source": [
    "# Removing Outliers of sales (Using Subset Data)"
   ]
  },
  {
   "cell_type": "code",
   "execution_count": 64,
   "id": "eb232962",
   "metadata": {},
   "outputs": [
    {
     "data": {
      "text/plain": [
       "<AxesSubplot:xlabel='Sales'>"
      ]
     },
     "execution_count": 64,
     "metadata": {},
     "output_type": "execute_result"
    },
    {
     "data": {
      "image/png": "[encoded data removed]",
      "text/plain": [
       "<Figure size 432x288 with 1 Axes>"
      ]
     },
     "metadata": {
      "needs_background": "light"
     },
     "output_type": "display_data"
    }
   ],
   "source": [
    "sns.boxplot(data = df1 , x = \"Sales\")"
   ]
  },
  {
   "cell_type": "code",
   "execution_count": 65,
   "id": "bfb96932",
   "metadata": {},
   "outputs": [],
   "source": [
    "Q1 = df1[\"Sales\"].quantile(0.25)\n",
    "\n",
    "Q3 = df1[\"Sales\"].quantile(0.75)\n",
    "\n",
    "IQR = Q3 - Q1\n",
    "\n",
    "\n",
    "\n",
    "Upper_Fence = Q3 + (1.5 * IQR)"
   ]
  },
  {
   "cell_type": "code",
   "execution_count": 66,
   "id": "7ee16278",
   "metadata": {},
   "outputs": [
    {
     "data": {
      "text/plain": [
       "13965.75"
      ]
     },
     "execution_count": 66,
     "metadata": {},
     "output_type": "execute_result"
    }
   ],
   "source": [
    "Upper_Fence"
   ]
  },
  {
   "cell_type": "code",
   "execution_count": 67,
   "id": "08a1334e",
   "metadata": {},
   "outputs": [],
   "source": [
    "df2 = pd.DataFrame(df1)"
   ]
  },
  {
   "cell_type": "code",
   "execution_count": 71,
   "id": "52dc39b3",
   "metadata": {},
   "outputs": [],
   "source": [
    "df2[\"Sales\"]=np.where(df1[\"Sales\"]>13965.75,13965.75,df1[\"Sales\"])"
   ]
  },
  {
   "cell_type": "code",
   "execution_count": 72,
   "id": "2cf46ac2",
   "metadata": {},
   "outputs": [
    {
     "data": {
      "text/plain": [
       "<AxesSubplot:xlabel='Sales'>"
      ]
     },
     "execution_count": 72,
     "metadata": {},
     "output_type": "execute_result"
    },
    {
     "data": {
      "image/png": "[encoded data removed]",
      "text/plain": [
       "<Figure size 432x288 with 1 Axes>"
      ]
     },
     "metadata": {
      "needs_background": "light"
     },
     "output_type": "display_data"
    }
   ],
   "source": [
    "sns.boxplot(data = df2, x = \"Sales\")"
   ]
  },
  {
   "cell_type": "code",
   "execution_count": 73,
   "id": "34167db2",
   "metadata": {},
   "outputs": [],
   "source": [
    "# Removing Outliers of Customers (Using Subset Data)"
   ]
  },
  {
   "cell_type": "code",
   "execution_count": 73,
   "id": "38908a93",
   "metadata": {},
   "outputs": [
    {
     "data": {
      "text/plain": [
       "<AxesSubplot:xlabel='Customers'>"
      ]
     },
     "execution_count": 73,
     "metadata": {},
     "output_type": "execute_result"
    },
    {
     "data": {
      "image/png": "[encoded data removed]",
      "text/plain": [
       "<Figure size 432x288 with 1 Axes>"
      ]
     },
     "metadata": {
      "needs_background": "light"
     },
     "output_type": "display_data"
    }
   ],
   "source": [
    "sns.boxplot(data = df1, x = \"Customers\")"
   ]
  },
  {
   "cell_type": "code",
   "execution_count": 74,
   "id": "e846cecf",
   "metadata": {},
   "outputs": [],
   "source": [
    "Q11 = df1[\"Customers\"].quantile(0.25)\n",
    "\n",
    "Q33 = df1[\"Customers\"].quantile(0.75)\n",
    "\n",
    "IQR2 = Q33 - Q11\n",
    "\n",
    "\n",
    "\n",
    "Upper_Fence2 = Q33 + (1.5 * IQR2)"
   ]
  },
  {
   "cell_type": "code",
   "execution_count": 75,
   "id": "6598ea86",
   "metadata": {},
   "outputs": [
    {
     "data": {
      "text/plain": [
       "1513.125"
      ]
     },
     "execution_count": 75,
     "metadata": {},
     "output_type": "execute_result"
    }
   ],
   "source": [
    "Upper_Fence2"
   ]
  },
  {
   "cell_type": "code",
   "execution_count": 76,
   "id": "9bcacff4",
   "metadata": {},
   "outputs": [],
   "source": [
    "df2[\"Customers\"]= np.where(df1[\"Customers\"]>1513.125,1513.125,df1[\"Customers\"])"
   ]
  },
  {
   "cell_type": "code",
   "execution_count": 77,
   "id": "6f408a1a",
   "metadata": {},
   "outputs": [
    {
     "data": {
      "text/plain": [
       "<AxesSubplot:xlabel='Customers'>"
      ]
     },
     "execution_count": 77,
     "metadata": {},
     "output_type": "execute_result"
    },
    {
     "data": {
      "image/png": "[encoded data removed]",
      "text/plain": [
       "<Figure size 432x288 with 1 Axes>"
      ]
     },
     "metadata": {
      "needs_background": "light"
     },
     "output_type": "display_data"
    }
   ],
   "source": [
    "sns.boxplot(data = df2, x = \"Customers\")"
   ]
  },
  {
   "cell_type": "code",
   "execution_count": 78,
   "id": "e8a94874",
   "metadata": {},
   "outputs": [
    {
     "data": {
      "text/html": [
       "<div>\n",
       "<style scoped>\n",
       "    .dataframe tbody tr th:only-of-type {\n",
       "        vertical-align: middle;\n",
       "    }\n",
       "\n",
       "    .dataframe tbody tr th {\n",
       "        vertical-align: top;\n",
       "    }\n",
       "\n",
       "    .dataframe thead th {\n",
       "        text-align: right;\n",
       "    }\n",
       "</style>\n",
       "<table border=\"1\" class=\"dataframe\">\n",
       "  <thead>\n",
       "    <tr style=\"text-align: right;\">\n",
       "      <th></th>\n",
       "      <th>Sales</th>\n",
       "      <th>Customers</th>\n",
       "      <th>Promo</th>\n",
       "      <th>SchoolHoliday</th>\n",
       "      <th>Sunday_Cancel</th>\n",
       "    </tr>\n",
       "  </thead>\n",
       "  <tbody>\n",
       "    <tr>\n",
       "      <th>721934</th>\n",
       "      <td>0.0</td>\n",
       "      <td>0.0</td>\n",
       "      <td>0</td>\n",
       "      <td>0</td>\n",
       "      <td>0</td>\n",
       "    </tr>\n",
       "    <tr>\n",
       "      <th>760156</th>\n",
       "      <td>4225.0</td>\n",
       "      <td>1065.0</td>\n",
       "      <td>0</td>\n",
       "      <td>1</td>\n",
       "      <td>1</td>\n",
       "    </tr>\n",
       "  </tbody>\n",
       "</table>\n",
       "</div>"
      ],
      "text/plain": [
       "         Sales  Customers  Promo  SchoolHoliday  Sunday_Cancel\n",
       "721934     0.0        0.0      0              0              0\n",
       "760156  4225.0     1065.0      0              1              1"
      ]
     },
     "execution_count": 78,
     "metadata": {},
     "output_type": "execute_result"
    }
   ],
   "source": [
    "df2.head(2)"
   ]
  },
  {
   "cell_type": "code",
   "execution_count": 79,
   "id": "ba1e969e",
   "metadata": {},
   "outputs": [],
   "source": [
    "yy = df2[\"Sales\"]"
   ]
  },
  {
   "cell_type": "code",
   "execution_count": 80,
   "id": "dcf5ddbb",
   "metadata": {},
   "outputs": [],
   "source": [
    "xx =df2.drop(\"Sales\",axis = 1)"
   ]
  },
  {
   "cell_type": "code",
   "execution_count": 81,
   "id": "62dbdeb6",
   "metadata": {},
   "outputs": [],
   "source": [
    "xx_train,xx_test,yy_train,yy_test=train_test_split(xx,yy,test_size=0.2)"
   ]
  },
  {
   "cell_type": "code",
   "execution_count": 82,
   "id": "5a5328bf",
   "metadata": {},
   "outputs": [],
   "source": [
    "model =KNeighborsRegressor(n_neighbors=7)\n",
    "model.fit(xx_train,yy_train)\n",
    "yy_pred=model.predict(xx_test)"
   ]
  },
  {
   "cell_type": "code",
   "execution_count": 83,
   "id": "b4be47e4",
   "metadata": {},
   "outputs": [
    {
     "name": "stdout",
     "output_type": "stream",
     "text": [
      "0.8531692880630648\n"
     ]
    }
   ],
   "source": [
    "yyScore = r2_score(yy_test, yy_pred)\n",
    "print(yyScore)"
   ]
  },
  {
   "cell_type": "code",
   "execution_count": 84,
   "id": "98315396",
   "metadata": {},
   "outputs": [],
   "source": [
    "Range = [1,2,3,4,5,6,7,8,9,10]\n",
    "K_value2 = []\n",
    "for i in Range:\n",
    "    model =KNeighborsRegressor(n_neighbors=i)\n",
    "    model.fit(xx_train,yy_train)\n",
    "    yy_pred=model.predict(xx_test)\n",
    "    ss = r2_score(yy_test, yy_pred)\n",
    "    K_value2.append(ss)\n",
    "    "
   ]
  },
  {
   "cell_type": "code",
   "execution_count": 85,
   "id": "df2e6c0f",
   "metadata": {},
   "outputs": [
    {
     "data": {
      "text/plain": [
       "[<matplotlib.lines.Line2D at 0x1ce8ec2d730>]"
      ]
     },
     "execution_count": 85,
     "metadata": {},
     "output_type": "execute_result"
    },
    {
     "data": {
      "image/png": "[encoded data removed]",
      "text/plain": [
       "<Figure size 432x288 with 1 Axes>"
      ]
     },
     "metadata": {
      "needs_background": "light"
     },
     "output_type": "display_data"
    }
   ],
   "source": [
    "plt.plot(K_value2)"
   ]
  },
  {
   "cell_type": "code",
   "execution_count": 89,
   "id": "ca4bd233",
   "metadata": {},
   "outputs": [],
   "source": [
    "# when k = 5 we get highest Score > 85% but without removing outliers we get score is > 84%"
   ]
  },
  {
   "cell_type": "code",
   "execution_count": 86,
   "id": "cfc4457e",
   "metadata": {},
   "outputs": [],
   "source": [
    "# USING SIMPLE MEAN METHOD TO REMOVE OUTLIERS"
   ]
  },
  {
   "cell_type": "code",
   "execution_count": 87,
   "id": "00b1b7d7",
   "metadata": {},
   "outputs": [
    {
     "data": {
      "text/plain": [
       "5671.736"
      ]
     },
     "execution_count": 87,
     "metadata": {},
     "output_type": "execute_result"
    }
   ],
   "source": [
    "df1[\"Sales\"].mean()"
   ]
  },
  {
   "cell_type": "code",
   "execution_count": 88,
   "id": "591ab3b1",
   "metadata": {},
   "outputs": [
    {
     "data": {
      "text/plain": [
       "627.976"
      ]
     },
     "execution_count": 88,
     "metadata": {},
     "output_type": "execute_result"
    }
   ],
   "source": [
    "df1[\"Customers\"].mean()"
   ]
  },
  {
   "cell_type": "code",
   "execution_count": 89,
   "id": "8ceb214d",
   "metadata": {},
   "outputs": [],
   "source": [
    "df3 = pd.DataFrame(df1)"
   ]
  },
  {
   "cell_type": "code",
   "execution_count": 90,
   "id": "2c47aaaf",
   "metadata": {},
   "outputs": [],
   "source": [
    "df3[\"Customers\"]= np.where(df3[\"Customers\"]>627.976,627.976,df1[\"Customers\"])"
   ]
  },
  {
   "cell_type": "code",
   "execution_count": 91,
   "id": "5b29c449",
   "metadata": {},
   "outputs": [],
   "source": [
    "df3[\"Sales\"]= np.where(df3[\"Sales\"]>5671.736,5671.736,df1[\"Sales\"])"
   ]
  },
  {
   "cell_type": "code",
   "execution_count": 92,
   "id": "ad2be97b",
   "metadata": {},
   "outputs": [
    {
     "data": {
      "text/html": [
       "<div>\n",
       "<style scoped>\n",
       "    .dataframe tbody tr th:only-of-type {\n",
       "        vertical-align: middle;\n",
       "    }\n",
       "\n",
       "    .dataframe tbody tr th {\n",
       "        vertical-align: top;\n",
       "    }\n",
       "\n",
       "    .dataframe thead th {\n",
       "        text-align: right;\n",
       "    }\n",
       "</style>\n",
       "<table border=\"1\" class=\"dataframe\">\n",
       "  <thead>\n",
       "    <tr style=\"text-align: right;\">\n",
       "      <th></th>\n",
       "      <th>Sales</th>\n",
       "      <th>Customers</th>\n",
       "      <th>Promo</th>\n",
       "      <th>SchoolHoliday</th>\n",
       "      <th>Sunday_Cancel</th>\n",
       "    </tr>\n",
       "  </thead>\n",
       "  <tbody>\n",
       "    <tr>\n",
       "      <th>721934</th>\n",
       "      <td>0.000</td>\n",
       "      <td>0.000</td>\n",
       "      <td>0</td>\n",
       "      <td>0</td>\n",
       "      <td>0</td>\n",
       "    </tr>\n",
       "    <tr>\n",
       "      <th>760156</th>\n",
       "      <td>4225.000</td>\n",
       "      <td>627.976</td>\n",
       "      <td>0</td>\n",
       "      <td>1</td>\n",
       "      <td>1</td>\n",
       "    </tr>\n",
       "    <tr>\n",
       "      <th>828392</th>\n",
       "      <td>5671.736</td>\n",
       "      <td>627.976</td>\n",
       "      <td>1</td>\n",
       "      <td>0</td>\n",
       "      <td>3</td>\n",
       "    </tr>\n",
       "    <tr>\n",
       "      <th>733289</th>\n",
       "      <td>5325.000</td>\n",
       "      <td>581.000</td>\n",
       "      <td>1</td>\n",
       "      <td>0</td>\n",
       "      <td>4</td>\n",
       "    </tr>\n",
       "    <tr>\n",
       "      <th>321536</th>\n",
       "      <td>5671.736</td>\n",
       "      <td>627.976</td>\n",
       "      <td>1</td>\n",
       "      <td>0</td>\n",
       "      <td>3</td>\n",
       "    </tr>\n",
       "  </tbody>\n",
       "</table>\n",
       "</div>"
      ],
      "text/plain": [
       "           Sales  Customers  Promo  SchoolHoliday  Sunday_Cancel\n",
       "721934     0.000      0.000      0              0              0\n",
       "760156  4225.000    627.976      0              1              1\n",
       "828392  5671.736    627.976      1              0              3\n",
       "733289  5325.000    581.000      1              0              4\n",
       "321536  5671.736    627.976      1              0              3"
      ]
     },
     "execution_count": 92,
     "metadata": {},
     "output_type": "execute_result"
    }
   ],
   "source": [
    "df3.head(5)"
   ]
  },
  {
   "cell_type": "code",
   "execution_count": 93,
   "id": "df97f0d4",
   "metadata": {},
   "outputs": [
    {
     "data": {
      "text/plain": [
       "5671.736"
      ]
     },
     "execution_count": 93,
     "metadata": {},
     "output_type": "execute_result"
    }
   ],
   "source": [
    "df3[\"Sales\"].max()"
   ]
  },
  {
   "cell_type": "code",
   "execution_count": 94,
   "id": "a19bc989",
   "metadata": {},
   "outputs": [],
   "source": [
    "yyy = df3[\"Sales\"]"
   ]
  },
  {
   "cell_type": "code",
   "execution_count": 95,
   "id": "de645a58",
   "metadata": {},
   "outputs": [],
   "source": [
    "xxx =df3.drop(\"Sales\",axis = 1)"
   ]
  },
  {
   "cell_type": "code",
   "execution_count": 96,
   "id": "d467d66d",
   "metadata": {},
   "outputs": [],
   "source": [
    "xxx_train,xxx_test,yyy_train,yyy_test=train_test_split(xxx,yyy,test_size=0.2)"
   ]
  },
  {
   "cell_type": "code",
   "execution_count": 97,
   "id": "04f7e353",
   "metadata": {},
   "outputs": [],
   "source": [
    "model =KNeighborsRegressor(n_neighbors=7)\n",
    "model.fit(xxx_train,yyy_train)\n",
    "yyy_pred=model.predict(xxx_test)"
   ]
  },
  {
   "cell_type": "code",
   "execution_count": 98,
   "id": "0776a1da",
   "metadata": {},
   "outputs": [
    {
     "name": "stdout",
     "output_type": "stream",
     "text": [
      "0.9487439578930414\n"
     ]
    }
   ],
   "source": [
    "yyyScore = r2_score(yyy_test, yyy_pred)\n",
    "print(yyyScore)"
   ]
  },
  {
   "cell_type": "code",
   "execution_count": 99,
   "id": "955a94e9",
   "metadata": {},
   "outputs": [],
   "source": [
    "Range = [1,2,3,4,5,6,7,8,9,10]\n",
    "K_value3 = []\n",
    "for i in Range:\n",
    "    model =KNeighborsRegressor(n_neighbors=i)\n",
    "    model.fit(xxx_train,yyy_train)\n",
    "    yyy_pred=model.predict(xxx_test)\n",
    "    sss = r2_score(yyy_test, yyy_pred)\n",
    "    K_value3.append(sss)"
   ]
  },
  {
   "cell_type": "code",
   "execution_count": 100,
   "id": "e98e3a48",
   "metadata": {},
   "outputs": [
    {
     "data": {
      "text/plain": [
       "[<matplotlib.lines.Line2D at 0x1ce8511f6d0>]"
      ]
     },
     "execution_count": 100,
     "metadata": {},
     "output_type": "execute_result"
    },
    {
     "data": {
      "image/png": "[encoded data removed]",
      "text/plain": [
       "<Figure size 432x288 with 1 Axes>"
      ]
     },
     "metadata": {
      "needs_background": "light"
     },
     "output_type": "display_data"
    }
   ],
   "source": [
    "plt.plot(K_value3)"
   ]
  },
  {
   "cell_type": "code",
   "execution_count": 109,
   "id": "37025419",
   "metadata": {},
   "outputs": [],
   "source": [
    "# k = 3 is the best value we get 94% accuracy Applying this on all the data"
   ]
  },
  {
   "cell_type": "code",
   "execution_count": null,
   "id": "0d8fb174",
   "metadata": {},
   "outputs": [],
   "source": [
    "# we improve this score by ussing different models and with differnt techniques."
   ]
  }
 ],
 "metadata": {
  "kernelspec": {
   "display_name": "Python 3 (ipykernel)",
   "language": "python",
   "name": "python3"
  },
  "language_info": {
   "codemirror_mode": {
    "name": "ipython",
    "version": 3
   },
   "file_extension": ".py",
   "mimetype": "text/x-python",
   "name": "python",
   "nbconvert_exporter": "python",
   "pygments_lexer": "ipython3",
   "version": "3.9.12"
  }
 },
 "nbformat": 4,
 "nbformat_minor": 5
}
